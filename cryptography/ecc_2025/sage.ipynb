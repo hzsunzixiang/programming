{
 "cells": [
  {
   "cell_type": "markdown",
   "id": "58da5a5a-b9f3-468d-a49c-fce04b088011",
   "metadata": {},
   "source": [
    "# 用sage操作椭圆曲线"
   ]
  },
  {
   "cell_type": "markdown",
   "id": "a03f15ac-f924-4c83-89d6-837c8ca37528",
   "metadata": {},
   "source": [
    "https://www.johannes-bauer.com/compsci/ecc/"
   ]
  },
  {
   "cell_type": "code",
   "execution_count": null,
   "id": "8161a138-b602-477a-a738-c5e0e4a5406a",
   "metadata": {},
   "outputs": [],
   "source": [
    "Elliptic Curve defined by y^2 = x^3 + 2*x + 3 over Finite Field of size 263"
   ]
  },
  {
   "cell_type": "markdown",
   "id": "8b4117f4-c5ce-4e45-8787-7927e1cc7051",
   "metadata": {},
   "source": [
    "$$y^2 + a_1xy + a_3y = x^3 + a_2x^2 + a_4x + a_6$$"
   ]
  },
  {
   "cell_type": "code",
   "execution_count": 31,
   "id": "b4a4383a-2ba8-46dc-bf98-4e1809140d6a",
   "metadata": {},
   "outputs": [
    {
     "name": "stdout",
     "output_type": "stream",
     "text": [
      "Elliptic Curve defined by y^2 = x^3 + 2*x + 3 over Finite Field of size 263\n"
     ]
    }
   ],
   "source": [
    "from sage.all import FiniteField as GF\n",
    "from sage.schemes.elliptic_curves.ell_finite_field import EllipticCurve_finite_field\n",
    "F = GF(263)\n",
    "C = EllipticCurve_finite_field(F, [0, 0, 0, 2, 3])  # [a1, a2, a3, a4, a6]\n",
    "print(C)"
   ]
  },
  {
   "cell_type": "code",
   "execution_count": 33,
   "id": "a1e643b2-b495-4308-86fd-7a8f031c4e55",
   "metadata": {},
   "outputs": [
    {
     "name": "stdout",
     "output_type": "stream",
     "text": [
      "Elliptic Curve defined by y^2 + 8*x*y + 5*y = x^3 + 2*x^2 + 2*x + 3 over Finite Field of size 263\n"
     ]
    }
   ],
   "source": [
    "C = EllipticCurve_finite_field(F, [8, 2, 5, 2, 3])  # [a1, a2, a3, a4, a6]\n",
    "print(C)"
   ]
  },
  {
   "cell_type": "code",
   "execution_count": 3,
   "id": "7ec7a104-6fd2-465a-bf14-8d82c470e1db",
   "metadata": {},
   "outputs": [
    {
     "name": "stdout",
     "output_type": "stream",
     "text": [
      "Elliptic Curve defined by y^2 = x^3 + 2*x + 3 over Finite Field of size 263\n",
      "270\n",
      "[(0 : 1 : 0), (0 : 23 : 1), (0 : 240 : 1), (1 : 100 : 1)]\n"
     ]
    }
   ],
   "source": [
    "from sage.all import FiniteField \n",
    "from sage.schemes.elliptic_curves.ell_finite_field import EllipticCurve_finite_field\n",
    "from sage.schemes.elliptic_curves.ell_finite_field import EllipticCurve\n",
    "\n",
    "F = FiniteField(263)                  # Generate a finite field\n",
    "C = EllipticCurve(F, [ 2, 3 ])        # Set a, b\n",
    "sage: print(C)\n",
    "sage: print(C.cardinality())                # Count number of points on curve\n",
    "sage: print(C.points()[:4])                 # Show the first four points"
   ]
  },
  {
   "cell_type": "code",
   "execution_count": 4,
   "id": "b331a2ac-ee1a-4e10-8be1-541a843aefad",
   "metadata": {},
   "outputs": [],
   "source": [
    "F = FiniteField(263)         "
   ]
  },
  {
   "cell_type": "code",
   "execution_count": 5,
   "id": "4718f7ee-d945-49b8-b635-136fe814af05",
   "metadata": {},
   "outputs": [],
   "source": [
    "C = EllipticCurve(F, [ 2, 3 ])"
   ]
  },
  {
   "cell_type": "code",
   "execution_count": 6,
   "id": "37297c32-88d3-4282-ba58-e739de152e7d",
   "metadata": {},
   "outputs": [
    {
     "name": "stdout",
     "output_type": "stream",
     "text": [
      "Elliptic Curve defined by y^2 = x^3 + 2*x + 3 over Finite Field of size 263\n"
     ]
    }
   ],
   "source": [
    "print(C)"
   ]
  },
  {
   "cell_type": "code",
   "execution_count": 7,
   "id": "7c63bf46-9959-4253-8da1-3e5672b74f99",
   "metadata": {},
   "outputs": [
    {
     "name": "stdout",
     "output_type": "stream",
     "text": [
      "270\n"
     ]
    }
   ],
   "source": [
    "print(C.cardinality())"
   ]
  },
  {
   "cell_type": "code",
   "execution_count": 8,
   "id": "b3d731e6-8957-4c71-8bd8-20f18e11cc58",
   "metadata": {},
   "outputs": [
    {
     "name": "stdout",
     "output_type": "stream",
     "text": [
      "[(0 : 1 : 0), (0 : 23 : 1), (0 : 240 : 1), (1 : 100 : 1)]\n"
     ]
    }
   ],
   "source": [
    "print(C.points()[:4])"
   ]
  },
  {
   "cell_type": "markdown",
   "id": "e6f8080e-ae96-483e-9084-7c1c7880d9bd",
   "metadata": {},
   "source": [
    "Note that sage represents points with three coordinates. The third coordinate tells us whether the point is at infinity (if it's 0) or not (then it is 1). Let's choose a generator point, take (200, 39):"
   ]
  },
  {
   "cell_type": "code",
   "execution_count": 9,
   "id": "860ac02e-53d6-4821-b309-63837c5f300e",
   "metadata": {},
   "outputs": [
    {
     "name": "stdout",
     "output_type": "stream",
     "text": [
      "[(0 : 1 : 0), (0 : 23 : 1), (0 : 240 : 1), (1 : 100 : 1), (1 : 163 : 1), (3 : 6 : 1), (3 : 257 : 1), (4 : 115 : 1), (4 : 148 : 1), (5 : 123 : 1), (5 : 140 : 1), (10 : 51 : 1), (10 : 212 : 1), (13 : 124 : 1), (13 : 139 : 1), (14 : 113 : 1), (14 : 150 : 1), (16 : 42 : 1), (16 : 221 : 1), (17 : 74 : 1), (17 : 189 : 1), (19 : 59 : 1), (19 : 204 : 1), (20 : 68 : 1), (20 : 195 : 1), (31 : 20 : 1), (31 : 243 : 1), (32 : 111 : 1), (32 : 152 : 1), (37 : 51 : 1), (37 : 212 : 1), (39 : 15 : 1), (39 : 248 : 1), (41 : 10 : 1), (41 : 253 : 1), (42 : 3 : 1), (42 : 260 : 1), (46 : 11 : 1), (46 : 252 : 1), (47 : 78 : 1), (47 : 185 : 1), (50 : 21 : 1), (50 : 242 : 1), (51 : 97 : 1), (51 : 166 : 1), (53 : 91 : 1), (53 : 172 : 1), (55 : 3 : 1), (55 : 260 : 1), (60 : 48 : 1), (60 : 215 : 1), (61 : 20 : 1), (61 : 243 : 1), (64 : 8 : 1), (64 : 255 : 1), (65 : 42 : 1), (65 : 221 : 1), (66 : 31 : 1), (66 : 232 : 1), (68 : 54 : 1), (68 : 209 : 1), (72 : 120 : 1), (72 : 143 : 1), (74 : 108 : 1), (74 : 155 : 1), (75 : 121 : 1), (75 : 142 : 1), (76 : 45 : 1), (76 : 218 : 1), (77 : 124 : 1), (77 : 139 : 1), (79 : 115 : 1), (79 : 148 : 1), (80 : 75 : 1), (80 : 188 : 1), (81 : 95 : 1), (81 : 168 : 1), (82 : 63 : 1), (82 : 200 : 1), (86 : 49 : 1), (86 : 214 : 1), (87 : 91 : 1), (87 : 172 : 1), (88 : 84 : 1), (88 : 179 : 1), (90 : 102 : 1), (90 : 161 : 1), (92 : 55 : 1), (92 : 208 : 1), (94 : 22 : 1), (94 : 241 : 1), (101 : 129 : 1), (101 : 134 : 1), (102 : 90 : 1), (102 : 173 : 1), (106 : 34 : 1), (106 : 229 : 1), (107 : 39 : 1), (107 : 224 : 1), (111 : 16 : 1), (111 : 247 : 1), (114 : 104 : 1), (114 : 159 : 1), (115 : 53 : 1), (115 : 210 : 1), (119 : 126 : 1), (119 : 137 : 1), (120 : 99 : 1), (120 : 164 : 1), (123 : 91 : 1), (123 : 172 : 1), (126 : 76 : 1), (126 : 187 : 1), (127 : 50 : 1), (127 : 213 : 1), (128 : 81 : 1), (128 : 182 : 1), (129 : 9 : 1), (129 : 254 : 1), (132 : 33 : 1), (132 : 230 : 1), (133 : 125 : 1), (133 : 138 : 1), (136 : 98 : 1), (136 : 165 : 1), (137 : 4 : 1), (137 : 259 : 1), (138 : 79 : 1), (138 : 184 : 1), (139 : 12 : 1), (139 : 251 : 1), (142 : 89 : 1), (142 : 174 : 1), (144 : 35 : 1), (144 : 228 : 1), (145 : 119 : 1), (145 : 144 : 1), (146 : 103 : 1), (146 : 160 : 1), (147 : 116 : 1), (147 : 147 : 1), (152 : 117 : 1), (152 : 146 : 1), (153 : 103 : 1), (153 : 160 : 1), (154 : 89 : 1), (154 : 174 : 1), (155 : 125 : 1), (155 : 138 : 1), (158 : 94 : 1), (158 : 169 : 1), (160 : 19 : 1), (160 : 244 : 1), (166 : 3 : 1), (166 : 260 : 1), (167 : 99 : 1), (167 : 164 : 1), (168 : 9 : 1), (168 : 254 : 1), (169 : 92 : 1), (169 : 171 : 1), (171 : 20 : 1), (171 : 243 : 1), (172 : 43 : 1), (172 : 220 : 1), (173 : 124 : 1), (173 : 139 : 1), (174 : 119 : 1), (174 : 144 : 1), (175 : 83 : 1), (175 : 180 : 1), (177 : 32 : 1), (177 : 231 : 1), (179 : 14 : 1), (179 : 249 : 1), (180 : 115 : 1), (180 : 148 : 1), (182 : 42 : 1), (182 : 221 : 1), (186 : 102 : 1), (186 : 161 : 1), (188 : 57 : 1), (188 : 206 : 1), (192 : 122 : 1), (192 : 141 : 1), (193 : 128 : 1), (193 : 135 : 1), (198 : 95 : 1), (198 : 168 : 1), (199 : 87 : 1), (199 : 176 : 1), (200 : 39 : 1), (200 : 224 : 1), (201 : 108 : 1), (201 : 155 : 1), (202 : 55 : 1), (202 : 208 : 1), (203 : 73 : 1), (203 : 190 : 1), (204 : 31 : 1), (204 : 232 : 1), (205 : 45 : 1), (205 : 218 : 1), (206 : 30 : 1), (206 : 233 : 1), (207 : 119 : 1), (207 : 144 : 1), (216 : 51 : 1), (216 : 212 : 1), (217 : 66 : 1), (217 : 197 : 1), (218 : 7 : 1), (218 : 256 : 1), (219 : 39 : 1), (219 : 224 : 1), (220 : 25 : 1), (220 : 238 : 1), (222 : 13 : 1), (222 : 250 : 1), (223 : 44 : 1), (223 : 219 : 1), (224 : 71 : 1), (224 : 192 : 1), (225 : 40 : 1), (225 : 223 : 1), (226 : 78 : 1), (226 : 185 : 1), (227 : 103 : 1), (227 : 160 : 1), (228 : 106 : 1), (228 : 157 : 1), (229 : 9 : 1), (229 : 254 : 1), (230 : 89 : 1), (230 : 174 : 1), (231 : 109 : 1), (231 : 154 : 1), (232 : 55 : 1), (232 : 208 : 1), (233 : 86 : 1), (233 : 177 : 1), (238 : 125 : 1), (238 : 138 : 1), (239 : 99 : 1), (239 : 164 : 1), (240 : 64 : 1), (240 : 199 : 1), (244 : 101 : 1), (244 : 162 : 1), (245 : 45 : 1), (245 : 218 : 1), (247 : 95 : 1), (247 : 168 : 1), (248 : 65 : 1), (248 : 198 : 1), (249 : 85 : 1), (249 : 178 : 1), (250 : 102 : 1), (250 : 161 : 1), (251 : 108 : 1), (251 : 155 : 1), (253 : 78 : 1), (253 : 185 : 1), (255 : 1 : 1), (255 : 262 : 1), (256 : 31 : 1), (256 : 232 : 1), (260 : 93 : 1), (260 : 170 : 1), (262 : 0 : 1)]\n"
     ]
    }
   ],
   "source": [
    "print(C.points()[:])"
   ]
  },
  {
   "cell_type": "code",
   "execution_count": 10,
   "id": "3a5eff7a-1221-4d9b-9241-d3c7fb15f8b7",
   "metadata": {},
   "outputs": [],
   "source": [
    "G = C.point((200, 39))"
   ]
  },
  {
   "cell_type": "code",
   "execution_count": 11,
   "id": "b386225b-f263-492e-8ef1-36be61dc9014",
   "metadata": {},
   "outputs": [
    {
     "data": {
      "text/plain": [
       "(200 : 39 : 1)"
      ]
     },
     "execution_count": 11,
     "metadata": {},
     "output_type": "execute_result"
    }
   ],
   "source": [
    "G  "
   ]
  },
  {
   "cell_type": "code",
   "execution_count": 12,
   "id": "6c08d825-020a-4bd8-b520-6dbf39f46fcb",
   "metadata": {},
   "outputs": [
    {
     "data": {
      "text/plain": [
       "270"
      ]
     },
     "execution_count": 12,
     "metadata": {},
     "output_type": "execute_result"
    }
   ],
   "source": [
    "G.order()"
   ]
  },
  {
   "cell_type": "code",
   "execution_count": 13,
   "id": "a0a15e7d-6ee5-4d82-a1ff-72ce6a2281de",
   "metadata": {},
   "outputs": [
    {
     "data": {
      "text/plain": [
       "[(0 : 1 : 0),\n",
       " (60 : 48 : 1),\n",
       " (60 : 215 : 1),\n",
       " (61 : 20 : 1),\n",
       " (61 : 243 : 1),\n",
       " (102 : 90 : 1),\n",
       " (102 : 173 : 1),\n",
       " (126 : 76 : 1),\n",
       " (126 : 187 : 1),\n",
       " (128 : 81 : 1),\n",
       " (128 : 182 : 1),\n",
       " (144 : 35 : 1),\n",
       " (144 : 228 : 1),\n",
       " (175 : 83 : 1),\n",
       " (175 : 180 : 1),\n",
       " (262 : 0 : 1)]"
      ]
     },
     "execution_count": 13,
     "metadata": {},
     "output_type": "execute_result"
    }
   ],
   "source": [
    "[ p for p in C.points() if (p.order() < 10) ]"
   ]
  },
  {
   "cell_type": "code",
   "execution_count": 14,
   "id": "51984a0c-f019-43ac-9b3b-18341fbf3b27",
   "metadata": {},
   "outputs": [
    {
     "data": {
      "text/plain": [
       "[(1, (0 : 1 : 0)),\n",
       " (9, (60 : 48 : 1)),\n",
       " (9, (60 : 215 : 1)),\n",
       " (5, (61 : 20 : 1)),\n",
       " (5, (61 : 243 : 1)),\n",
       " (9, (102 : 90 : 1)),\n",
       " (9, (102 : 173 : 1)),\n",
       " (6, (126 : 76 : 1)),\n",
       " (6, (126 : 187 : 1)),\n",
       " (9, (128 : 81 : 1)),\n",
       " (9, (128 : 182 : 1)),\n",
       " (3, (144 : 35 : 1)),\n",
       " (3, (144 : 228 : 1)),\n",
       " (5, (175 : 83 : 1)),\n",
       " (5, (175 : 180 : 1)),\n",
       " (2, (262 : 0 : 1))]"
      ]
     },
     "execution_count": 14,
     "metadata": {},
     "output_type": "execute_result"
    }
   ],
   "source": [
    "[ (p.order(), p) for p in C.points() if (p.order() < 10) ]"
   ]
  },
  {
   "cell_type": "code",
   "execution_count": 15,
   "id": "dc7354fe-7abe-4a37-ba0d-831ab296ef0f",
   "metadata": {},
   "outputs": [
    {
     "data": {
      "text/plain": [
       "[(1, (0 : 1 : 0)),\n",
       " (2, (262 : 0 : 1)),\n",
       " (3, (144 : 35 : 1)),\n",
       " (3, (144 : 228 : 1)),\n",
       " (5, (61 : 20 : 1)),\n",
       " (5, (61 : 243 : 1)),\n",
       " (5, (175 : 83 : 1)),\n",
       " (5, (175 : 180 : 1)),\n",
       " (6, (126 : 76 : 1)),\n",
       " (6, (126 : 187 : 1)),\n",
       " (9, (60 : 48 : 1)),\n",
       " (9, (60 : 215 : 1)),\n",
       " (9, (102 : 90 : 1)),\n",
       " (9, (102 : 173 : 1)),\n",
       " (9, (128 : 81 : 1)),\n",
       " (9, (128 : 182 : 1))]"
      ]
     },
     "execution_count": 15,
     "metadata": {},
     "output_type": "execute_result"
    }
   ],
   "source": [
    "sorted([ (p.order(), p) for p in C.points() if (p.order() < 10) ])"
   ]
  },
  {
   "cell_type": "code",
   "execution_count": 16,
   "id": "528d2238-4f56-4a84-aa88-ba27bb454e41",
   "metadata": {},
   "outputs": [],
   "source": [
    "H = C.point((126, 76))"
   ]
  },
  {
   "cell_type": "code",
   "execution_count": 17,
   "id": "3ce59a2d-cfce-4dbb-be05-6251d8db956b",
   "metadata": {},
   "outputs": [
    {
     "data": {
      "text/plain": [
       "6"
      ]
     },
     "execution_count": 17,
     "metadata": {},
     "output_type": "execute_result"
    }
   ],
   "source": [
    "H.order()"
   ]
  },
  {
   "cell_type": "code",
   "execution_count": 18,
   "id": "f8930672-5dd9-4444-96e3-a875d6b60714",
   "metadata": {},
   "outputs": [],
   "source": [
    "pts = [ H * x for x in range(H.order()) ]"
   ]
  },
  {
   "cell_type": "code",
   "execution_count": 19,
   "id": "4e952396-83b6-4348-a096-e1482ebc2701",
   "metadata": {},
   "outputs": [
    {
     "data": {
      "text/plain": [
       "[(0 : 1 : 0),\n",
       " (126 : 76 : 1),\n",
       " (144 : 35 : 1),\n",
       " (262 : 0 : 1),\n",
       " (144 : 228 : 1),\n",
       " (126 : 187 : 1)]"
      ]
     },
     "execution_count": 19,
     "metadata": {},
     "output_type": "execute_result"
    }
   ],
   "source": [
    "pts"
   ]
  },
  {
   "cell_type": "code",
   "execution_count": 21,
   "id": "f9e094e4-7556-49fc-bf42-9334a84646a0",
   "metadata": {},
   "outputs": [
    {
     "data": {
      "text/plain": [
       "(144 : 228 : 1)"
      ]
     },
     "execution_count": 21,
     "metadata": {},
     "output_type": "execute_result"
    }
   ],
   "source": [
    "pts[4]"
   ]
  },
  {
   "cell_type": "code",
   "execution_count": 26,
   "id": "4cea3220-e0f6-49e8-b4ad-fb19e3e86fe3",
   "metadata": {},
   "outputs": [],
   "source": [
    "from sage.all import plot"
   ]
  },
  {
   "cell_type": "code",
   "execution_count": 27,
   "id": "68a951dd-7724-4102-9f8f-b6900b2c44b7",
   "metadata": {},
   "outputs": [
    {
     "data": {
      "text/plain": [
       "(144 : 228 : 1)"
      ]
     },
     "execution_count": 27,
     "metadata": {},
     "output_type": "execute_result"
    }
   ],
   "source": [
    "pts[4]"
   ]
  },
  {
   "cell_type": "code",
   "execution_count": 30,
   "id": "3525b0e8-8b34-428f-9f0b-9fc9dd1dd022",
   "metadata": {},
   "outputs": [],
   "source": [
    "# plot(pts[4]) ## error"
   ]
  },
  {
   "cell_type": "code",
   "execution_count": 37,
   "id": "daec3a6e-99e6-49b4-85e1-3a1d2edfb237",
   "metadata": {},
   "outputs": [
    {
     "ename": "NameError",
     "evalue": "name 'var' is not defined",
     "output_type": "error",
     "traceback": [
      "\u001b[0;31m---------------------------------------------------------------------------\u001b[0m",
      "\u001b[0;31mNameError\u001b[0m                                 Traceback (most recent call last)",
      "Cell \u001b[0;32mIn[37], line 7\u001b[0m\n\u001b[1;32m      3\u001b[0m \u001b[38;5;28;01mfrom\u001b[39;00m \u001b[38;5;21;01msage\u001b[39;00m\u001b[38;5;21;01m.\u001b[39;00m\u001b[38;5;21;01mplot\u001b[39;00m\u001b[38;5;21;01m.\u001b[39;00m\u001b[38;5;21;01mcontour_plot\u001b[39;00m \u001b[38;5;28;01mimport\u001b[39;00m contour_plot\n\u001b[1;32m      6\u001b[0m \u001b[38;5;66;03m# 定义变量\u001b[39;00m\n\u001b[0;32m----> 7\u001b[0m \u001b[43mvar\u001b[49m(\u001b[38;5;124m'\u001b[39m\u001b[38;5;124mx y\u001b[39m\u001b[38;5;124m'\u001b[39m)\n",
      "\u001b[0;31mNameError\u001b[0m: name 'var' is not defined"
     ]
    }
   ],
   "source": [
    "# 导入绘图模块\n",
    "from sage.plot.plot import Graphics\n",
    "from sage.plot.contour_plot import contour_plot\n",
    "\n",
    "\n",
    "# 定义变量\n",
    "var('x y')\n",
    "\n",
    " \n"
   ]
  },
  {
   "cell_type": "code",
   "execution_count": null,
   "id": "fb8dabd2-5838-4532-b1e7-8e0b36facb5b",
   "metadata": {},
   "outputs": [],
   "source": []
  }
 ],
 "metadata": {
  "kernelspec": {
   "display_name": "Python 3 (ipykernel)",
   "language": "python",
   "name": "python3"
  },
  "language_info": {
   "codemirror_mode": {
    "name": "ipython",
    "version": 3
   },
   "file_extension": ".py",
   "mimetype": "text/x-python",
   "name": "python",
   "nbconvert_exporter": "python",
   "pygments_lexer": "ipython3",
   "version": "3.12.5"
  }
 },
 "nbformat": 4,
 "nbformat_minor": 5
}
