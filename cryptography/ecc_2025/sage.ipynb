{
 "cells": [
  {
   "cell_type": "code",
   "execution_count": 10,
   "id": "deef532a-ff86-4c0f-bf0f-6b1871170a26",
   "metadata": {},
   "outputs": [
    {
     "name": "stdout",
     "output_type": "stream",
     "text": [
      "Elliptic Curve defined by y^2 = x^3 + 2*x + 3 over Finite Field of size 263\n"
     ]
    }
   ],
   "source": [
    "from sage.all import FiniteField as GF\n",
    "from sage.schemes.elliptic_curves.ell_finite_field import EllipticCurve_finite_field\n",
    "F = GF(263)\n",
    "C = EllipticCurve_finite_field(F, [0, 0, 0, 2, 3])  # [a1, a2, a3, a4, a6]\n",
    "print(C)\n"
   ]
  },
  {
   "cell_type": "code",
   "execution_count": 9,
   "id": "7ec7a104-6fd2-465a-bf14-8d82c470e1db",
   "metadata": {},
   "outputs": [
    {
     "name": "stdout",
     "output_type": "stream",
     "text": [
      "Elliptic Curve defined by y^2 = x^3 + 2*x + 3 over Finite Field of size 263\n",
      "270\n",
      "[(0 : 1 : 0), (0 : 23 : 1), (0 : 240 : 1), (1 : 100 : 1)]\n"
     ]
    }
   ],
   "source": [
    "from sage.all import FiniteField \n",
    "from sage.schemes.elliptic_curves.ell_finite_field import EllipticCurve_finite_field\n",
    "from sage.schemes.elliptic_curves.ell_finite_field import EllipticCurve\n",
    "\n",
    "F = FiniteField(263)                  # Generate a finite field\n",
    "C = EllipticCurve(F, [ 2, 3 ])        # Set a, b\n",
    "sage: print(C)\n",
    "sage: print(C.cardinality())                # Count number of points on curve\n",
    "sage: print(C.points()[:4])                 # Show the first four points"
   ]
  },
  {
   "cell_type": "code",
   "execution_count": null,
   "id": "b331a2ac-ee1a-4e10-8be1-541a843aefad",
   "metadata": {},
   "outputs": [],
   "source": []
  }
 ],
 "metadata": {
  "kernelspec": {
   "display_name": "Python 3 (ipykernel)",
   "language": "python",
   "name": "python3"
  },
  "language_info": {
   "codemirror_mode": {
    "name": "ipython",
    "version": 3
   },
   "file_extension": ".py",
   "mimetype": "text/x-python",
   "name": "python",
   "nbconvert_exporter": "python",
   "pygments_lexer": "ipython3",
   "version": "3.12.5"
  }
 },
 "nbformat": 4,
 "nbformat_minor": 5
}
