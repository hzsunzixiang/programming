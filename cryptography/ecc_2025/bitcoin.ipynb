{
 "cells": [
  {
   "cell_type": "markdown",
   "id": "4be7c834-a478-4680-bb85-5b1540077592",
   "metadata": {},
   "source": [
    "# 资料"
   ]
  },
  {
   "cell_type": "code",
   "execution_count": null,
   "id": "f21fc605-3f7a-4486-924d-d08a7717c798",
   "metadata": {},
   "outputs": [],
   "source": [
    "https://github.com/sr-gi/bitcoin_tools.git"
   ]
  },
  {
   "cell_type": "markdown",
   "id": "9d504424-7788-4b93-b291-6a4cb232aaa7",
   "metadata": {},
   "source": []
  },
  {
   "cell_type": "markdown",
   "id": "44efd81e-c497-46e2-ab39-3b2cdf68be45",
   "metadata": {},
   "source": [
    "# 大纲"
   ]
  },
  {
   "cell_type": "markdown",
   "id": "97874dc9-28cc-4a9a-86cb-ef5cdf6f1cc9",
   "metadata": {},
   "source": [
    "## 挖矿"
   ]
  },
  {
   "cell_type": "markdown",
   "id": "cbd8652e-41c2-4bc9-b9c2-e8336cf8d50e",
   "metadata": {},
   "source": [
    "## 钱包地址"
   ]
  },
  {
   "cell_type": "markdown",
   "id": "aebf80b0-fa51-46d9-81e5-3301ba336d8d",
   "metadata": {},
   "source": [
    "## 交易"
   ]
  },
  {
   "cell_type": "code",
   "execution_count": null,
   "id": "146ab1c9-a299-4a4b-951e-4209c8bacac0",
   "metadata": {},
   "outputs": [],
   "source": []
  }
 ],
 "metadata": {
  "kernelspec": {
   "display_name": "Python [conda env:ecc]",
   "language": "python",
   "name": "conda-env-ecc-py"
  },
  "language_info": {
   "codemirror_mode": {
    "name": "ipython",
    "version": 3
   },
   "file_extension": ".py",
   "mimetype": "text/x-python",
   "name": "python",
   "nbconvert_exporter": "python",
   "pygments_lexer": "ipython3",
   "version": "3.13.2"
  }
 },
 "nbformat": 4,
 "nbformat_minor": 5
}
